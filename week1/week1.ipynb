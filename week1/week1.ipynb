{
  "cells": [
    {
      "cell_type": "markdown",
      "metadata": {},
      "source": [
        "# Week 1 — Intro\n",
        "\n",
        "# Week 1 Exercises\n",
        "\n",
        "This notebook is designed for Google Colab.  \n",
        "Click the badge below to open in Colab:\n",
        "\n",
        "[![Open In\n",
        "Colab](https://colab.research.google.com/assets/colab-badge.svg)](https://colab.research.google.com/github/USER/REPO/blob/main/weeks/week-01/lesson.ipynb)\n",
        "#Replace with actual link"
      ],
      "id": "09c09e65-3f8b-4082-9d7a-e77377845b68"
    }
  ],
  "nbformat": 4,
  "nbformat_minor": 5,
  "metadata": {
    "kernelspec": {
      "display_name": "Python 3",
      "language": "python",
      "name": "python3"
    }
  }
}